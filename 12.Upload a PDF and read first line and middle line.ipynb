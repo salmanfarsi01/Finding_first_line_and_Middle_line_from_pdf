{
 "cells": [
  {
   "cell_type": "code",
   "execution_count": 2,
   "id": "918b91df-a6c4-4528-a920-fdae72b9154e",
   "metadata": {},
   "outputs": [],
   "source": [
    "import PyPDF2 #which helps read PDF files in Python."
   ]
  },
  {
   "cell_type": "code",
   "execution_count": 11,
   "id": "6bd43442-5160-4d50-851d-a66ef2139adf",
   "metadata": {},
   "outputs": [
    {
     "name": "stdout",
     "output_type": "stream",
     "text": [
      "First Line: STEP BY STEP: How to write a study plan\n",
      "Middle Line: Hi, my name is Leila and I am applying to the undergraduate Civil Engineering program at the\n"
     ]
    }
   ],
   "source": [
    "import PyPDF2\n",
    "\n",
    "# Step 1: Define a function to extract the first and middle lines\n",
    "def extract_first_and_middle_lines(pdf_file_path):\n",
    "    # Step 2: Open the PDF file in binary mode (read mode)\n",
    "    with open(pdf_file_path, 'rb') as file:\n",
    "        # Step 3: Initialize the PDF reader\n",
    "        reader = PyPDF2.PdfReader(file)\n",
    "        \n",
    "        # Step 4: Initialize an empty string to hold all the text from the PDF\n",
    "        all_text = \"\"\n",
    "        \n",
    "        # Step 5: Loop through each page in the PDF\n",
    "        for page_num in range(len(reader.pages)):\n",
    "            # Step 6: Extract text from the current page\n",
    "            page = reader.pages[page_num]\n",
    "            all_text += page.extract_text()  # Add text to the `all_text` string\n",
    "        \n",
    "        # Step 7: Split the extracted text into lines based on actual line breaks\n",
    "        lines = all_text.split('\\n')\n",
    "        \n",
    "        # Step 8: Extract the first line\n",
    "        first_line = lines[0].strip() if len(lines) > 0 else \"No content in the PDF\"\n",
    "        \n",
    "        # Step 9: Find the middle line by getting the middle index\n",
    "        middle_index = len(lines) // 2\n",
    "        middle_line = lines[middle_index].strip() if len(lines) > middle_index else \"No middle content\"\n",
    "        \n",
    "        # Step 10: Return the first and middle lines\n",
    "        return first_line, middle_line\n",
    "\n",
    "\n",
    "# Step 11: Provide the path to the PDF file and call the function\n",
    "pdf_path = \"C:\\\\Users\\\\Local User\\\\Pictures\\\\How to write a study plan.pdf\"\n",
    "first_line, middle_line = extract_first_and_middle_lines(pdf_path)\n",
    "\n",
    "# Step 12: Print the first and middle lines\n",
    "print(\"First Line:\", first_line)\n",
    "print(\"Middle Line:\", middle_line)\n"
   ]
  },
  {
   "cell_type": "code",
   "execution_count": 12,
   "id": "004307c1-36f3-42c9-9a3f-bf21495456a7",
   "metadata": {},
   "outputs": [
    {
     "name": "stderr",
     "output_type": "stream",
     "text": [
      "[nltk_data] Downloading package punkt to C:\\Users\\Local\n",
      "[nltk_data]     User\\AppData\\Roaming\\nltk_data...\n",
      "[nltk_data]   Unzipping tokenizers\\punkt.zip.\n"
     ]
    },
    {
     "name": "stdout",
     "output_type": "stream",
     "text": [
      "Total Sentences: 82\n",
      "First Sentence (Sentence 1): STEP BY STEP: How to write a study plan  \n",
      " \n",
      "What is a study plan?\n",
      "Middle Sentence (Sentence 42): 7.\n"
     ]
    }
   ],
   "source": [
    "import nltk\n",
    "nltk.download('punkt')  # Download the sentence tokenizer\n",
    "\n",
    "# Step 1: Define a function to extract the first and middle sentences\n",
    "def extract_first_and_middle_sentences(pdf_file_path):\n",
    "    # Step 2: Open the PDF file in binary mode (read mode)\n",
    "    with open(pdf_file_path, 'rb') as file:\n",
    "        # Step 3: Initialize the PDF reader\n",
    "        reader = PyPDF2.PdfReader(file)\n",
    "        \n",
    "        # Step 4: Initialize an empty string to hold all the text from the PDF\n",
    "        all_text = \"\"\n",
    "        \n",
    "        # Step 5: Loop through each page in the PDF\n",
    "        for page_num in range(len(reader.pages)):\n",
    "            # Step 6: Extract text from the current page\n",
    "            page = reader.pages[page_num]\n",
    "            all_text += page.extract_text()  # Add text to the `all_text` string\n",
    "        \n",
    "        # Step 7: Tokenize the text into sentences using nltk's sentence tokenizer\n",
    "        sentences = nltk.sent_tokenize(all_text)\n",
    "        \n",
    "        # Step 8: Calculate total number of sentences\n",
    "        total_sentences = len(sentences)\n",
    "        \n",
    "        # Step 9: Extract the first sentence\n",
    "        first_sentence = sentences[0].strip() if total_sentences > 0 else \"No content in the PDF\"\n",
    "        \n",
    "        # Step 10: Find the middle sentence\n",
    "        middle_index = total_sentences // 2\n",
    "        middle_sentence = sentences[middle_index].strip() if total_sentences > middle_index else \"No middle content\"\n",
    "        \n",
    "        # Step 11: Return the first, middle sentences, and total sentence count\n",
    "        return first_sentence, middle_sentence, total_sentences\n",
    "\n",
    "\n",
    "# Step 12: Provide the path to the PDF file and call the function\n",
    "pdf_path = \"C:\\\\Users\\\\Local User\\\\Pictures\\\\How to write a study plan.pdf\"\n",
    "first_sentence, middle_sentence, total_sentences = extract_first_and_middle_sentences(pdf_path)\n",
    "\n",
    "# Step 13: Print the first and middle sentences, and the total number of sentences\n",
    "print(\"Total Sentences:\", total_sentences)\n",
    "print(\"First Sentence (Sentence 1):\", first_sentence)\n",
    "print(f\"Middle Sentence (Sentence {total_sentences // 2 + 1}):\", middle_sentence)\n"
   ]
  },
  {
   "cell_type": "code",
   "execution_count": null,
   "id": "b239010b-2488-46f7-8a50-570dc1d2ef97",
   "metadata": {},
   "outputs": [],
   "source": []
  }
 ],
 "metadata": {
  "kernelspec": {
   "display_name": "ML-KERNEL",
   "language": "python",
   "name": "ml-kernel"
  },
  "language_info": {
   "codemirror_mode": {
    "name": "ipython",
    "version": 3
   },
   "file_extension": ".py",
   "mimetype": "text/x-python",
   "name": "python",
   "nbconvert_exporter": "python",
   "pygments_lexer": "ipython3",
   "version": "3.12.4"
  }
 },
 "nbformat": 4,
 "nbformat_minor": 5
}
